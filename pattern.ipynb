{
 "cells": [
  {
   "cell_type": "code",
   "execution_count": 35,
   "id": "caa3214f-955b-4a96-b381-bd69d66a7564",
   "metadata": {},
   "outputs": [
    {
     "name": "stdout",
     "output_type": "stream",
     "text": [
      "1\n",
      "22\n",
      "333\n",
      "4444\n",
      "55555\n"
     ]
    }
   ],
   "source": [
    "for i in range(1,6):\n",
    "    for j in range(1,i+1):\n",
    "        print(i,end=\"\")\n",
    "    print()"
   ]
  },
  {
   "cell_type": "code",
   "execution_count": 47,
   "id": "8e9e4b2c-acbb-4ff9-a2e9-896d520e1e71",
   "metadata": {},
   "outputs": [
    {
     "name": "stdout",
     "output_type": "stream",
     "text": [
      "12345\n",
      "2345\n",
      "345\n",
      "45\n",
      "5\n"
     ]
    }
   ],
   "source": [
    "for i in range(1,6):\n",
    "    for j in range(i,6):\n",
    "        print(j,end=\"\")\n",
    "    print()"
   ]
  },
  {
   "cell_type": "code",
   "execution_count": 49,
   "id": "86af2eb3-4702-4eef-a0a0-790d417c562f",
   "metadata": {},
   "outputs": [],
   "source": [
    "##second Problem\n"
   ]
  },
  {
   "cell_type": "code",
   "execution_count": 51,
   "id": "c6fd0b15-afe7-4b8e-8be1-f7c513fabf03",
   "metadata": {},
   "outputs": [
    {
     "name": "stdout",
     "output_type": "stream",
     "text": [
      "11111\n",
      "2222 \n",
      "333  \n",
      "44   \n",
      "5    \n"
     ]
    }
   ],
   "source": [
    "for i in range(1,6):\n",
    "    for j in range(1,6):\n",
    "        if j<=6-i:\n",
    "            print(i,end=\"\")\n",
    "        else:\n",
    "            print(\"\",end=\" \")\n",
    "    print()"
   ]
  },
  {
   "cell_type": "code",
   "execution_count": 53,
   "id": "b2bf58ea-104c-48be-b582-274697eaa6b1",
   "metadata": {},
   "outputs": [],
   "source": [
    "#third problem solution"
   ]
  },
  {
   "cell_type": "code",
   "execution_count": 55,
   "id": "920ce4c1-d7c3-46ea-a979-5ce27755451a",
   "metadata": {},
   "outputs": [
    {
     "name": "stdout",
     "output_type": "stream",
     "text": [
      "1\n",
      "12\n",
      "123\n",
      "1234\n",
      "12345\n"
     ]
    }
   ],
   "source": [
    "for i in range(1,6):\n",
    "    for j in range(1,i+1):\n",
    "        print(j,end=\"\")\n",
    "    print()"
   ]
  },
  {
   "cell_type": "code",
   "execution_count": 57,
   "id": "9feef21f-2996-48a9-9143-d2f610cbc221",
   "metadata": {},
   "outputs": [],
   "source": [
    "#fourth problem Solution\n"
   ]
  },
  {
   "cell_type": "code",
   "execution_count": 67,
   "id": "4027f863-7753-4730-af2e-8e6c35ccc860",
   "metadata": {},
   "outputs": [
    {
     "name": "stdout",
     "output_type": "stream",
     "text": [
      "5 5 5 5 5 \n",
      "4 4 4 4 \n",
      "3 3 3 \n",
      "2 2 \n",
      "1 \n"
     ]
    }
   ],
   "source": [
    "for i in range(1,6):\n",
    "    for j in range(0,6-i):\n",
    "        print(6-i,end=\" \")\n",
    "    print()"
   ]
  },
  {
   "cell_type": "code",
   "execution_count": 69,
   "id": "d23b80a2-7c65-4d7b-b340-bc829e312e0b",
   "metadata": {},
   "outputs": [
    {
     "name": "stdout",
     "output_type": "stream",
     "text": [
      "55555\n",
      "5555\n",
      "555\n",
      "55\n",
      "5\n"
     ]
    }
   ],
   "source": [
    "for i in range(1,6):\n",
    "    for j in range(0,6-i):\n",
    "        print(\"5\",end=\"\")\n",
    "    print()"
   ]
  },
  {
   "cell_type": "code",
   "execution_count": 71,
   "id": "34bf0010-3fc9-4d52-a006-68bbccc29ea7",
   "metadata": {},
   "outputs": [],
   "source": [
    "#fifth problem solution"
   ]
  },
  {
   "cell_type": "code",
   "execution_count": 85,
   "id": "1a36ac4c-1a96-4b7b-afac-47544a9d79c2",
   "metadata": {},
   "outputs": [
    {
     "name": "stdout",
     "output_type": "stream",
     "text": [
      "1\n",
      "21\n",
      "321\n",
      "4321\n",
      "54321\n"
     ]
    }
   ],
   "source": [
    "for i in range(1,6):\n",
    "    for j in range(i,0,-1):\n",
    "        print(j,end=\"\")\n",
    "    print()"
   ]
  },
  {
   "cell_type": "code",
   "execution_count": 102,
   "id": "68b047a1-09c4-4f06-b39d-30be3a600619",
   "metadata": {},
   "outputs": [],
   "source": [
    "#sixth problem"
   ]
  },
  {
   "cell_type": "code",
   "execution_count": 110,
   "id": "9596ffe5-1322-47ef-a99c-f4d8146b8bf6",
   "metadata": {},
   "outputs": [
    {
     "name": "stdout",
     "output_type": "stream",
     "text": [
      "012345\n",
      "01234 \n",
      "0123  \n",
      "012   \n",
      "01    \n"
     ]
    }
   ],
   "source": [
    "for i in range(1,6):\n",
    "    for j in range(0,6):\n",
    "        if j<=6-i:\n",
    "            print(j,end=\"\")\n",
    "        else:\n",
    "            print(\" \",end=\"\")\n",
    "    print()\n",
    "        "
   ]
  },
  {
   "cell_type": "code",
   "execution_count": 112,
   "id": "f0a8edad-2960-4d04-937e-d98a0c1652b3",
   "metadata": {},
   "outputs": [],
   "source": [
    "##seventh problem Solution"
   ]
  },
  {
   "cell_type": "code",
   "execution_count": 122,
   "id": "a190fe0a-ce43-48af-9d6c-a03b22d64ac2",
   "metadata": {},
   "outputs": [
    {
     "name": "stdout",
     "output_type": "stream",
     "text": [
      "1\n",
      "234\n",
      "56789\n"
     ]
    }
   ],
   "source": [
    "num=1\n",
    "for i in range(1,4):\n",
    "    for j in range(1,2*i):\n",
    "        print(num,end=\"\")\n",
    "        num +=1 \n",
    "    print()"
   ]
  },
  {
   "cell_type": "code",
   "execution_count": 125,
   "id": "5b0c2ba7-2288-4349-9247-d4a3dc03a8a5",
   "metadata": {},
   "outputs": [],
   "source": [
    "#eight problem solution"
   ]
  },
  {
   "cell_type": "code",
   "execution_count": 133,
   "id": "bc321c17-452e-4e77-9d4b-1e37a838dad4",
   "metadata": {},
   "outputs": [
    {
     "name": "stdout",
     "output_type": "stream",
     "text": [
      "2\n",
      "32\n",
      "432\n",
      "5432\n"
     ]
    }
   ],
   "source": [
    "n=1\n",
    "for i in range(1,5):\n",
    "    for j in range(i+1,1,-1):\n",
    "        print(j,end=\"\")\n",
    "        # n+= 1\n",
    "    print()"
   ]
  },
  {
   "cell_type": "code",
   "execution_count": 131,
   "id": "9c75145b-3e4d-4ec3-b54d-fae339a0b55d",
   "metadata": {},
   "outputs": [
    {
     "name": "stdout",
     "output_type": "stream",
     "text": [
      "    *    \n",
      "   ***   \n",
      "  *****  \n",
      " ******* \n",
      "*********\n"
     ]
    }
   ],
   "source": [
    "n=5\n",
    "c=8\n",
    "for i in range(1,n+1):\n",
    "    for j in range(0,c+1):\n",
    "        if j>=n-i and j<=3+i:\n",
    "            print(\"*\",end=\"\")\n",
    "        else:\n",
    "            print(\" \",end=\"\")\n",
    "    print()\n"
   ]
  },
  {
   "cell_type": "code",
   "execution_count": 149,
   "id": "bd51488d-be41-4c94-9603-988d3e48422b",
   "metadata": {},
   "outputs": [
    {
     "name": "stdout",
     "output_type": "stream",
     "text": [
      "*       * \n",
      "  *   *   \n",
      "    *     \n",
      "  *   *   \n",
      "*       * \n"
     ]
    }
   ],
   "source": [
    "n = 5  # Grid size (5x5 grid)\n",
    "for row in range(n):  # Rows loop (0 se n-1 tak)\n",
    "    for col in range(n):  # Columns loop (0 se n-1 tak)\n",
    "        if row == col or row + col == n - 1:  # Diagonal condition check\n",
    "            print(\"*\", end=\" \")  # Agar diagonal hai to '*'\n",
    "        else:\n",
    "            print(\" \", end=\" \")  # Baaki sab jagah 'space'\n",
    "    print()  # Har row ke baad new line\n"
   ]
  },
  {
   "cell_type": "code",
   "execution_count": 155,
   "id": "80d6c9dc-439e-4962-95ac-ccc2fe4795e8",
   "metadata": {},
   "outputs": [
    {
     "name": "stdout",
     "output_type": "stream",
     "text": [
      "*           * \n",
      "  *       *   \n",
      "    *   *     \n",
      "      *       \n",
      "    *   *     \n",
      "  *       *   \n",
      "*           * \n"
     ]
    }
   ],
   "source": [
    "for i in range(7):\n",
    "    for j in range(7):\n",
    "        if i==j or i+j == 7-1:\n",
    "            print(\"*\",end=\" \")\n",
    "        else:\n",
    "            print(\" \",end=\" \")\n",
    "    print()"
   ]
  },
  {
   "cell_type": "markdown",
   "id": "44bc01d1-57b8-47ea-b954-617a6566ce40",
   "metadata": {},
   "source": [
    "### strivers ke according"
   ]
  },
  {
   "cell_type": "code",
   "execution_count": null,
   "id": "b03b9033-5467-450a-aae4-4ceb014be6b7",
   "metadata": {},
   "outputs": [],
   "source": [
    "# 1\n",
    "# 1 2\n",
    "# 1 2 3\n",
    "# 1 2 3 4\n",
    "# 1 2 3 4 5\n",
    "# # 1 2 3 4 5 6\n"
   ]
  },
  {
   "cell_type": "code",
   "execution_count": 4,
   "id": "ebbe2b8b-cdf9-4c1e-86eb-20ed868928b6",
   "metadata": {},
   "outputs": [
    {
     "name": "stdout",
     "output_type": "stream",
     "text": [
      "1 \n",
      "1 2 \n",
      "1 2 3 \n",
      "1 2 3 4 \n",
      "1 2 3 4 5 \n",
      "1 2 3 4 5 6 \n"
     ]
    }
   ],
   "source": [
    "for i in range(1,7):\n",
    "    for j in range(1,i+1):\n",
    "        print(j,end=\" \")\n",
    "    print()"
   ]
  },
  {
   "cell_type": "code",
   "execution_count": null,
   "id": "bb8d7d87-fe4c-4489-b31d-3bb433d94312",
   "metadata": {},
   "outputs": [],
   "source": [
    "# 1\n",
    "# 2 2\n",
    "# 3 3 3\n",
    "# 4 4 4 4\n",
    "# 5 5 5 5 5\n",
    "# 6 6 6 6 6 6"
   ]
  },
  {
   "cell_type": "code",
   "execution_count": 22,
   "id": "0f5e989c-3377-4fb0-93d9-c9da29261b34",
   "metadata": {},
   "outputs": [
    {
     "name": "stdout",
     "output_type": "stream",
     "text": [
      "1\n",
      "22\n",
      "333\n",
      "4444\n",
      "55555\n",
      "666666\n"
     ]
    }
   ],
   "source": [
    "for i in range(1,7):\n",
    "    for j in range(1,i+1):\n",
    "        print(i,end=\"\")\n",
    "    print()"
   ]
  },
  {
   "cell_type": "code",
   "execution_count": null,
   "id": "7b797bb9-839b-4374-88fb-48a3d698d9c7",
   "metadata": {},
   "outputs": [],
   "source": [
    "# * * * * * *\n",
    "# * * * * * \n",
    "# * * * * \n",
    "# * * * \n",
    "# * * \n",
    "# * "
   ]
  },
  {
   "cell_type": "code",
   "execution_count": 32,
   "id": "9f041f04-9ae7-4cdc-9530-3248072a4d95",
   "metadata": {},
   "outputs": [
    {
     "name": "stdout",
     "output_type": "stream",
     "text": [
      "*******\n",
      "******\n",
      "*****\n",
      "****\n",
      "***\n",
      "**\n",
      "*\n"
     ]
    }
   ],
   "source": [
    "n=8\n",
    "for i in range(1,n):\n",
    "    for j in range(0,n-i):\n",
    "        print(\"*\",end=\"\")\n",
    "    print()"
   ]
  },
  {
   "cell_type": "code",
   "execution_count": null,
   "id": "3043e972-ebf0-4e53-be0e-0fe20fcb7ee1",
   "metadata": {},
   "outputs": [],
   "source": [
    "# 1 2 3 4 5 6\n",
    "# 1 2 3 4 5\n",
    "# 1 2 3 4\n",
    "# 1 2 3\n",
    "# 1 2 \n",
    "# 1"
   ]
  },
  {
   "cell_type": "code",
   "execution_count": 70,
   "id": "c5ce36b8-ac99-446a-b1f4-2b9e81c5b1c2",
   "metadata": {},
   "outputs": [
    {
     "name": "stdout",
     "output_type": "stream",
     "text": [
      "1 2 3 4 5 6 7 \n",
      "1 2 3 4 5 6 \n",
      "1 2 3 4 5 \n",
      "1 2 3 4 \n",
      "1 2 3 \n",
      "1 2 \n",
      "1 \n"
     ]
    }
   ],
   "source": [
    "n=7\n",
    "for i in range(0,n):\n",
    "    for j in range(1,n+1-i):\n",
    "        print(j,end=\" \")\n",
    "    print()"
   ]
  },
  {
   "cell_type": "code",
   "execution_count": 159,
   "id": "a6a9a79f-ce98-4925-9097-28dde9b3d0bf",
   "metadata": {},
   "outputs": [
    {
     "name": "stdout",
     "output_type": "stream",
     "text": [
      "    *     \n",
      "   ***    \n",
      "  *****   \n",
      " *******  \n",
      "********* \n"
     ]
    }
   ],
   "source": [
    "for i in range(1,6):\n",
    "    for j in range(0,10):\n",
    "        if j>=5-i and j<=3+i:\n",
    "            print(\"*\",end=\"\")\n",
    "        else:\n",
    "            print(\" \",end=\"\")\n",
    "    print()"
   ]
  },
  {
   "cell_type": "code",
   "execution_count": 255,
   "id": "0dc9ec8a-af38-413d-a144-612f39379a79",
   "metadata": {},
   "outputs": [
    {
     "name": "stdout",
     "output_type": "stream",
     "text": [
      "    *      \n",
      "   ***     \n",
      "  *****    \n",
      " *******   \n",
      "*********  \n"
     ]
    }
   ],
   "source": [
    "n=5\n",
    "c=10\n",
    "\n",
    "for i in range(1,n+1):\n",
    "    for j in range(0,c+1):\n",
    "        if j>=5-i and j<=3+i:\n",
    "            print(\"*\",end=\"\")\n",
    "        else:\n",
    "            print(\" \",end=\"\")\n",
    "    print()"
   ]
  },
  {
   "cell_type": "code",
   "execution_count": 199,
   "id": "cccfec33-5ddc-4df7-afed-725a7f87601f",
   "metadata": {},
   "outputs": [
    {
     "name": "stdout",
     "output_type": "stream",
     "text": [
      "*********\n",
      " ******* \n",
      "  *****  \n",
      "   ***   \n",
      "    *    \n"
     ]
    }
   ],
   "source": [
    "n=5\n",
    "c=10\n",
    "\n",
    "for i in range(1,n+1):\n",
    "    for j in range(1,c):\n",
    "        if j>=i and j<=c-i:\n",
    "            print(\"*\",end=\"\")\n",
    "        else:\n",
    "            print(\" \",end=\"\")\n",
    "    print()"
   ]
  },
  {
   "cell_type": "code",
   "execution_count": 265,
   "id": "08cd75f7-128d-45ea-9883-ec9bb20e1ac9",
   "metadata": {},
   "outputs": [
    {
     "name": "stdout",
     "output_type": "stream",
     "text": [
      "    *      \n",
      "   ***     \n",
      "  *****    \n",
      " *******   \n",
      "*********  \n",
      "*********\n",
      " ******* \n",
      "  *****  \n",
      "   ***   \n",
      "    *    \n"
     ]
    }
   ],
   "source": [
    "n=5\n",
    "c=10\n",
    "\n",
    "for i in range(1,n+1):\n",
    "    for j in range(0,c+1):\n",
    "        if j>=5-i and j<=3+i:\n",
    "            print(\"*\",end=\"\")\n",
    "        else:\n",
    "            print(\" \",end=\"\")\n",
    "    print()\n",
    "\n",
    "for i in range(1,n+1):\n",
    "    for j in range(1,c):\n",
    "        if j>=i and j<=c-i:\n",
    "            print(\"*\",end=\"\")\n",
    "        else:\n",
    "            print(\" \",end=\"\")\n",
    "    print()"
   ]
  },
  {
   "cell_type": "code",
   "execution_count": null,
   "id": "a3bc9c35-0223-4032-ba2b-3e3f7c38bf3a",
   "metadata": {},
   "outputs": [],
   "source": [
    "*  \n",
    "**\n",
    "***  \n",
    "**\n",
    "*  "
   ]
  },
  {
   "cell_type": "markdown",
   "id": "0d5ea439-2ce3-4cc3-83c0-dd4b6d8eba54",
   "metadata": {},
   "source": [
    "## Alphabet"
   ]
  },
  {
   "cell_type": "code",
   "execution_count": 43,
   "id": "6c07a0af-dfbf-4ef6-8604-fdb5e50871df",
   "metadata": {},
   "outputs": [
    {
     "name": "stdout",
     "output_type": "stream",
     "text": [
      "  * * *   \n",
      "*       * \n",
      "*       * \n",
      "> > > > > \n",
      "*       * \n",
      "*       * \n",
      "*       * \n"
     ]
    }
   ],
   "source": [
    "#A ko print karte he\n",
    "for row in range(7):\n",
    "    for col in range(5):\n",
    "        if row==0 and col in {1,2,3}:\n",
    "            print(\"*\",end=\" \")\n",
    "        elif row in {1,2,4,5,6} and col in {0,4}:\n",
    "            print(\"*\",end=\" \")\n",
    "        elif row==3:\n",
    "            print(\">\",end=\" \")\n",
    "        else:\n",
    "            print(\" \",end=\" \")\n",
    "    print()"
   ]
  },
  {
   "cell_type": "code",
   "execution_count": 49,
   "id": "d62d85dd-6ecf-4d05-9935-f33b5f0f61bd",
   "metadata": {},
   "outputs": [
    {
     "name": "stdout",
     "output_type": "stream",
     "text": [
      "* * * *   \n",
      "*       * \n",
      "*       * \n",
      "* * * *   \n",
      "*       * \n",
      "*       * \n",
      "* * * *   \n"
     ]
    }
   ],
   "source": [
    "#b print\n",
    "for i in range(7):\n",
    "    for j in range(5):\n",
    "        if i in {0,3,6} and j in {0,1,2,3,}:\n",
    "            print(\"*\",end=\" \")\n",
    "        elif i in {1,2,4,5} and j in {0,4}:\n",
    "            print(\"*\",end=\" \")\n",
    "        else:\n",
    "            print(\" \",end=\" \")\n",
    "    print()"
   ]
  },
  {
   "cell_type": "code",
   "execution_count": 83,
   "id": "20d13e4d-e900-4425-a2c0-6ab3ea89c28d",
   "metadata": {},
   "outputs": [
    {
     "name": "stdout",
     "output_type": "stream",
     "text": [
      "    * *         \n",
      "  *             \n",
      "*     *   * *   \n",
      "  *     *   *   \n",
      "    *       *   \n"
     ]
    }
   ],
   "source": [
    "#G pring\n",
    "for row in range(5):\n",
    "    for col in range(8):\n",
    "        if row==0 and col in {2,3}:\n",
    "            print(\"*\",end=\" \")\n",
    "        elif row==1 and col ==1:\n",
    "            print(\"*\",end=\" \")\n",
    "        elif row==2 and col in {0,3,5,6}:\n",
    "            print(\"*\",end=\" \")\n",
    "        elif row==3 and col in {1,4,6}:\n",
    "            print(\"*\",end=\" \")\n",
    "        elif row==4 and col in {2,6}:\n",
    "            print(\"*\",end=\" \")\n",
    "        else:\n",
    "            print(\" \",end=\" \")\n",
    "    print()"
   ]
  },
  {
   "cell_type": "code",
   "execution_count": 1,
   "id": "6bee0ead-8208-483e-a88b-5788ad946c22",
   "metadata": {},
   "outputs": [],
   "source": [
    "##print string\n"
   ]
  },
  {
   "cell_type": "code",
   "execution_count": 22,
   "id": "fe477290-9e11-4df5-98fc-1b65113cba51",
   "metadata": {},
   "outputs": [
    {
     "name": "stdin",
     "output_type": "stream",
     "text": [
      "Enter the string python\n"
     ]
    },
    {
     "name": "stdout",
     "output_type": "stream",
     "text": [
      "p \n",
      "p y \n",
      "p y t \n",
      "p y t h \n",
      "p y t h o \n",
      "p y t h o n \n"
     ]
    }
   ],
   "source": [
    "string=input(\"Enter the string\")\n",
    "lenght=len(string)\n",
    "for i in range(0,lenght):\n",
    "    for j in range(0,i+1):\n",
    "        print(string[j],end=\" \")\n",
    "    print()"
   ]
  },
  {
   "cell_type": "code",
   "execution_count": 40,
   "id": "2ed819d8-2156-48a2-9e39-ed860abd1c0c",
   "metadata": {},
   "outputs": [
    {
     "name": "stdout",
     "output_type": "stream",
     "text": [
      "A\n",
      "An\n",
      "Anu\n",
      "Anus\n",
      "Anush\n",
      "Anushu\n",
      "Anushuy\n",
      "Anushuya\n"
     ]
    }
   ],
   "source": [
    "string=\"Anushuya\"\n",
    "lenght=len(string)\n",
    "for i in range(0,lenght):\n",
    "    for j in range(0,i+1):\n",
    "        print(string[j],end=\"\")\n",
    "    print()"
   ]
  },
  {
   "cell_type": "code",
   "execution_count": 44,
   "id": "119f0f52-b2b4-4308-8454-8e9c9d13b947",
   "metadata": {},
   "outputs": [
    {
     "name": "stdout",
     "output_type": "stream",
     "text": [
      "S\n",
      "Sh\n",
      "Sha\n",
      "Shan\n",
      "Shanu\n"
     ]
    }
   ],
   "source": [
    "string=\"Shanu\"\n",
    "for i in range(len(string)):\n",
    "    for j in range(i+1):\n",
    "        print(string[j],end=\"\")\n",
    "    print()"
   ]
  },
  {
   "cell_type": "code",
   "execution_count": 50,
   "id": "9f95f536-3490-4e9a-81fe-e21a413827a7",
   "metadata": {},
   "outputs": [
    {
     "name": "stdout",
     "output_type": "stream",
     "text": [
      "*******\n",
      "*** ***\n",
      "**   **\n",
      "*     *\n"
     ]
    }
   ],
   "source": [
    "for i in range(1,5):\n",
    "    for j in range(1,8):\n",
    "        if j<=5-i:\n",
    "            print(\"*\",end=\"\")\n",
    "        elif j>=3+i:\n",
    "            print(\"*\",end=\"\")\n",
    "        else:\n",
    "            print(\" \",end=\"\")\n",
    "    print()"
   ]
  },
  {
   "cell_type": "code",
   "execution_count": 64,
   "id": "a19bf3db-e4e4-42b7-9284-4a65ae145fa8",
   "metadata": {},
   "outputs": [
    {
     "name": "stdout",
     "output_type": "stream",
     "text": [
      "   *   \n",
      "  * *  \n",
      " *   * \n",
      "*     *\n"
     ]
    }
   ],
   "source": [
    "for i in range(1,5):\n",
    "    for j in range(1,8):\n",
    "        if j==5-i or j==3+i:\n",
    "            print(\"*\",end=\"\")\n",
    "        else:\n",
    "            print(\" \",end=\"\")\n",
    "    print()"
   ]
  },
  {
   "cell_type": "code",
   "execution_count": 90,
   "id": "8108f1f0-7f23-4479-85e9-5fb9a48c01d5",
   "metadata": {},
   "outputs": [
    {
     "name": "stdout",
     "output_type": "stream",
     "text": [
      "   *   \n",
      "  * *  \n",
      " *   * \n",
      "*******\n"
     ]
    }
   ],
   "source": [
    "for row in range(1,5):\n",
    "    for col in range(1,8):\n",
    "        if row==4 or row+col==5 or col-row==3:\n",
    "            print(\"*\",end=\"\")\n",
    "        else:\n",
    "            print(end=\" \")\n",
    "    print()"
   ]
  },
  {
   "cell_type": "code",
   "execution_count": 109,
   "id": "b6e21169-8459-4474-af7c-790d883791c0",
   "metadata": {},
   "outputs": [
    {
     "name": "stdout",
     "output_type": "stream",
     "text": [
      "    *     \n",
      "  *       \n",
      "*         \n",
      "  *       \n",
      "    *     \n"
     ]
    }
   ],
   "source": [
    "n=5\n",
    "for row in range(1,n+1):\n",
    "    for col in range(1,n+1):\n",
    "        if row+col==n-1 or row-col==n-3 :\n",
    "            print(\"*\",end=\" \")\n",
    "        else:\n",
    "            print(\" \",end=\" \")\n",
    "    print()\n",
    "        "
   ]
  },
  {
   "cell_type": "code",
   "execution_count": null,
   "id": "4b0a5137-c935-41b6-836d-a9f7fac220f4",
   "metadata": {},
   "outputs": [],
   "source": []
  },
  {
   "cell_type": "code",
   "execution_count": null,
   "id": "2ce8d5e3-6f27-4381-baf5-33d8fe57972d",
   "metadata": {},
   "outputs": [],
   "source": []
  },
  {
   "cell_type": "code",
   "execution_count": null,
   "id": "9b134dc1-7b3d-4fda-acb4-2f3410f42a7c",
   "metadata": {},
   "outputs": [],
   "source": []
  },
  {
   "cell_type": "code",
   "execution_count": null,
   "id": "007dd488-bf2e-4f4c-8b6d-a7f508e05a8c",
   "metadata": {},
   "outputs": [],
   "source": []
  },
  {
   "cell_type": "code",
   "execution_count": null,
   "id": "ac623f97-4b8e-4b30-9f2a-5a4c49e44ca2",
   "metadata": {},
   "outputs": [],
   "source": []
  },
  {
   "cell_type": "code",
   "execution_count": null,
   "id": "77716af3-74f0-46ad-bf17-550aaacf1959",
   "metadata": {},
   "outputs": [],
   "source": []
  },
  {
   "cell_type": "code",
   "execution_count": null,
   "id": "c6aabe4f-9fd8-4ffa-8f24-44be2e7eb572",
   "metadata": {},
   "outputs": [],
   "source": []
  },
  {
   "cell_type": "code",
   "execution_count": null,
   "id": "afb1b85c-a4df-4761-b125-765779c17d06",
   "metadata": {},
   "outputs": [],
   "source": []
  },
  {
   "cell_type": "code",
   "execution_count": null,
   "id": "139fd759-f01e-4a3c-bcec-88c378b92f06",
   "metadata": {},
   "outputs": [],
   "source": []
  },
  {
   "cell_type": "code",
   "execution_count": null,
   "id": "4f0c7c13-24eb-4a04-b1a2-edf20e4823a5",
   "metadata": {},
   "outputs": [],
   "source": []
  },
  {
   "cell_type": "code",
   "execution_count": null,
   "id": "d4b5e520-df07-4da0-903b-f83398703ec0",
   "metadata": {},
   "outputs": [],
   "source": []
  },
  {
   "cell_type": "code",
   "execution_count": null,
   "id": "b9d6e7e3-7c23-4dc6-b105-db27533b55f2",
   "metadata": {},
   "outputs": [],
   "source": []
  },
  {
   "cell_type": "code",
   "execution_count": null,
   "id": "68e8a784-6b29-4352-98a1-b924a9f7ba1a",
   "metadata": {},
   "outputs": [],
   "source": []
  },
  {
   "cell_type": "code",
   "execution_count": null,
   "id": "b7c433b9-5941-4f2d-83fd-1cd3641c8dd0",
   "metadata": {},
   "outputs": [],
   "source": []
  },
  {
   "cell_type": "code",
   "execution_count": null,
   "id": "4794ef76-a279-482b-9c25-2204ebd45546",
   "metadata": {},
   "outputs": [],
   "source": []
  }
 ],
 "metadata": {
  "kernelspec": {
   "display_name": "Python 3 (ipykernel)",
   "language": "python",
   "name": "python3"
  },
  "language_info": {
   "codemirror_mode": {
    "name": "ipython",
    "version": 3
   },
   "file_extension": ".py",
   "mimetype": "text/x-python",
   "name": "python",
   "nbconvert_exporter": "python",
   "pygments_lexer": "ipython3",
   "version": "3.12.4"
  }
 },
 "nbformat": 4,
 "nbformat_minor": 5
}
