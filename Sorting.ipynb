{
 "cells": [
  {
   "cell_type": "markdown",
   "id": "ce49fe3a-e65c-45db-8618-60da1ba0f43a",
   "metadata": {},
   "source": [
    "#### Check weather the array is Sorted or not ?\n"
   ]
  },
  {
   "cell_type": "code",
   "execution_count": 35,
   "id": "11060534-23f6-405a-b0ac-46bf2afc4c57",
   "metadata": {},
   "outputs": [],
   "source": [
    "def is_sorted(arr):\n",
    "    sorted=True ##kuch bhi dedo\n",
    "    for i in range(len(arr)-1):\n",
    "        if arr[i]>arr[i+1]:\n",
    "            sorted=False\n",
    "    return sorted"
   ]
  },
  {
   "cell_type": "code",
   "execution_count": 37,
   "id": "72d3a95b-6fec-4cc9-9e4b-a0c1e710ff1d",
   "metadata": {},
   "outputs": [],
   "source": [
    "arr=[2,3,4,5,6,2,2,2,3,4]"
   ]
  },
  {
   "cell_type": "code",
   "execution_count": 39,
   "id": "9540a996-628b-4a26-b786-f89833dcbc59",
   "metadata": {},
   "outputs": [
    {
     "data": {
      "text/plain": [
       "False"
      ]
     },
     "execution_count": 39,
     "metadata": {},
     "output_type": "execute_result"
    }
   ],
   "source": [
    "is_sorted(arr)"
   ]
  },
  {
   "cell_type": "code",
   "execution_count": 41,
   "id": "5d9da71d-e9ba-4702-b8c1-e1d123b523c6",
   "metadata": {},
   "outputs": [],
   "source": [
    "arr1=[i for i in range(1,11)]"
   ]
  },
  {
   "cell_type": "code",
   "execution_count": 43,
   "id": "3c2fa848-9e12-41ce-8b66-47f04bee245f",
   "metadata": {},
   "outputs": [
    {
     "data": {
      "text/plain": [
       "[1, 2, 3, 4, 5, 6, 7, 8, 9, 10]"
      ]
     },
     "execution_count": 43,
     "metadata": {},
     "output_type": "execute_result"
    }
   ],
   "source": [
    "arr1"
   ]
  },
  {
   "cell_type": "code",
   "execution_count": 45,
   "id": "f4fbc600-fcac-4f9e-b0d4-8fafc4785d17",
   "metadata": {},
   "outputs": [
    {
     "data": {
      "text/plain": [
       "True"
      ]
     },
     "execution_count": 45,
     "metadata": {},
     "output_type": "execute_result"
    }
   ],
   "source": [
    "is_sorted(arr1)"
   ]
  },
  {
   "cell_type": "markdown",
   "id": "db9b91f2-072c-48a8-bb8e-be097e5761f6",
   "metadata": {},
   "source": [
    "### Monkey Sort"
   ]
  },
  {
   "cell_type": "code",
   "execution_count": 58,
   "id": "6b9de2be-2533-41c9-8113-8b851c483192",
   "metadata": {},
   "outputs": [],
   "source": [
    "import time\n",
    "import random\n",
    "def Monkey_Sort(arr):\n",
    "    while not is_sorted(arr):\n",
    "        time.sleep(1)\n",
    "        random.shuffle(arr)\n",
    "        print(arr)\n",
    "    print(arr)\n"
   ]
  },
  {
   "cell_type": "code",
   "execution_count": 72,
   "id": "0231e4b7-e2f7-4319-bcc6-0ce7fbb477f1",
   "metadata": {},
   "outputs": [],
   "source": [
    "arr2=[2,3,4,1,1]"
   ]
  },
  {
   "cell_type": "code",
   "execution_count": 74,
   "id": "ae03d1de-1944-4f4a-a564-46b5a413c3ad",
   "metadata": {},
   "outputs": [
    {
     "name": "stdout",
     "output_type": "stream",
     "text": [
      "[1, 3, 2, 4, 1]\n",
      "[3, 1, 1, 4, 2]\n",
      "[1, 3, 2, 4, 1]\n",
      "[4, 3, 1, 2, 1]\n",
      "[1, 1, 4, 2, 3]\n",
      "[4, 2, 1, 1, 3]\n",
      "[4, 2, 1, 1, 3]\n",
      "[2, 1, 1, 4, 3]\n",
      "[3, 2, 4, 1, 1]\n",
      "[3, 2, 1, 4, 1]\n",
      "[1, 1, 2, 3, 4]\n",
      "[1, 1, 2, 3, 4]\n"
     ]
    }
   ],
   "source": [
    "Monkey_Sort(arr2)"
   ]
  },
  {
   "cell_type": "markdown",
   "id": "fbe542dd-83b7-4fa7-9d35-867544d21b2c",
   "metadata": {},
   "source": [
    "### Bubble Sort"
   ]
  },
  {
   "cell_type": "code",
   "execution_count": 84,
   "id": "6fe02c0c-ac63-4083-9613-b8a7c62511e2",
   "metadata": {},
   "outputs": [],
   "source": [
    "def bubble_sort(arr):\n",
    "    for i in range(len(arr)-1): #(n-1) pass chlane ke liye\n",
    "        flag=0\n",
    "        for j in range(len(arr)-1-i):  #har pass ke last element ko ignore karne ke liye\n",
    "            if arr[j]>arr[j+1]:\n",
    "                arr[j],arr[j+1]=arr[j+1],arr[j]\n",
    "                flag=1\n",
    "        if flag==0:\n",
    "            break\n",
    "    print(arr)\n",
    "#this bubble sort is Adaptive or stable           "
   ]
  },
  {
   "cell_type": "code",
   "execution_count": 90,
   "id": "07cccc83-3010-4d07-abf0-221e51299c07",
   "metadata": {},
   "outputs": [
    {
     "name": "stdout",
     "output_type": "stream",
     "text": [
      "[2, 2, 2, 2, 3, 3, 4, 4, 5, 6]\n"
     ]
    }
   ],
   "source": [
    "bubble_sort(arr)"
   ]
  },
  {
   "cell_type": "markdown",
   "id": "87a1ff25-e147-4334-b823-f6d278d62181",
   "metadata": {},
   "source": [
    "### Selection Sort"
   ]
  },
  {
   "cell_type": "code",
   "execution_count": 99,
   "id": "a28f111b-2ba8-4b04-b6e9-8801cf2cdfdd",
   "metadata": {},
   "outputs": [],
   "source": [
    "def selection_sort(arr):\n",
    "    for i in range(len(arr)-1): #n-1 passes\n",
    "        mini=i\n",
    "        for j in range(i+1,len(arr)-1): ## start from 2 to end tak\n",
    "            if arr[j]<arr[mini]:\n",
    "                arr[mini]=arr[j]\n",
    "        arr[i],arr[mini]=arr[mini],arr[i]\n",
    "    print(arr)\n",
    "        "
   ]
  },
  {
   "cell_type": "code",
   "execution_count": 109,
   "id": "0576e216-20cc-429f-ab36-f974ce526f02",
   "metadata": {},
   "outputs": [
    {
     "name": "stdout",
     "output_type": "stream",
     "text": [
      "[2, 2, 2, 2, 3, 3, 4, 4, 5, 6]\n"
     ]
    }
   ],
   "source": [
    "selection_sort(arr)"
   ]
  },
  {
   "cell_type": "markdown",
   "id": "f89a8955-795d-4c2f-84a2-84d7f0e2ef48",
   "metadata": {},
   "source": [
    "##  \"Merge Sort\""
   ]
  },
  {
   "cell_type": "code",
   "execution_count": 50,
   "id": "49674a8d-ad06-4d7b-89da-249d99a7b5cf",
   "metadata": {},
   "outputs": [],
   "source": [
    "def merged_sorted(arr1,arr2):\n",
    "    i=j=0\n",
    "    merged=[]\n",
    "    while i<len(arr1) and j<len(arr2):\n",
    "        if arr1[i]<arr2[j]:\n",
    "            merged.append(arr1[i])\n",
    "            i+=1\n",
    "        else:\n",
    "            merged.append(arr2[j])\n",
    "            j+=1\n",
    "    while i<len(arr1):\n",
    "        merged.append(arr1[i])\n",
    "        i+=1\n",
    "    while j<len(arr2):\n",
    "        merged.append(arr2[j])\n",
    "        j+=1\n",
    "    return merged\n",
    "        "
   ]
  },
  {
   "cell_type": "code",
   "execution_count": 52,
   "id": "8e9d028d-48ee-4461-bd32-7778da6e0ebb",
   "metadata": {},
   "outputs": [],
   "source": [
    "arr1=[1,2,3,7]\n",
    "arr2=[4,5,6,7,8]"
   ]
  },
  {
   "cell_type": "code",
   "execution_count": 54,
   "id": "abf8f70f-dd57-46be-b919-115f435f58fd",
   "metadata": {},
   "outputs": [
    {
     "data": {
      "text/plain": [
       "[1, 2, 3, 4, 5, 6, 7, 7, 8]"
      ]
     },
     "execution_count": 54,
     "metadata": {},
     "output_type": "execute_result"
    }
   ],
   "source": [
    "merged_sorted(arr1,arr2)"
   ]
  },
  {
   "cell_type": "code",
   "execution_count": 58,
   "id": "3bbb6d76-0986-4657-9dad-d2703e3e0f38",
   "metadata": {},
   "outputs": [],
   "source": [
    "def merge_sort(arr):\n",
    "    if len(arr)==1:\n",
    "        return arr\n",
    "    mid=len(arr)//2\n",
    "    left=arr[:mid]\n",
    "    right=arr[mid:]\n",
    "\n",
    "    left=merge_sort(left)\n",
    "    right=merge_sort(right)\n",
    "\n",
    "    return merged_sorted(left,right)"
   ]
  },
  {
   "cell_type": "code",
   "execution_count": 82,
   "id": "d931c8d2-9bb2-4452-bd2f-c26532c13701",
   "metadata": {},
   "outputs": [],
   "source": [
    "import random\n",
    "arr=random.sample(range(1,100),10)"
   ]
  },
  {
   "cell_type": "code",
   "execution_count": 84,
   "id": "d13ee3c5-83b1-4180-af38-e2da328ec5c4",
   "metadata": {},
   "outputs": [
    {
     "data": {
      "text/plain": [
       "[77, 66, 81, 29, 67, 58, 3, 56, 21, 89]"
      ]
     },
     "execution_count": 84,
     "metadata": {},
     "output_type": "execute_result"
    }
   ],
   "source": [
    "arr"
   ]
  },
  {
   "cell_type": "code",
   "execution_count": 86,
   "id": "8d2db0ba-6e26-429b-8b0a-c23be2c597f0",
   "metadata": {},
   "outputs": [
    {
     "data": {
      "text/plain": [
       "[3, 21, 29, 56, 58, 66, 67, 77, 81, 89]"
      ]
     },
     "execution_count": 86,
     "metadata": {},
     "output_type": "execute_result"
    }
   ],
   "source": [
    "merge_sort(arr)"
   ]
  },
  {
   "cell_type": "code",
   "execution_count": null,
   "id": "07e4f0f5-b264-4d8a-a6ea-f14f1f6a31e1",
   "metadata": {},
   "outputs": [],
   "source": []
  },
  {
   "cell_type": "markdown",
   "id": "3b1ece9f-65b1-4051-a801-cccb86fc0e2d",
   "metadata": {},
   "source": [
    "### Quick Sort ----"
   ]
  },
  {
   "cell_type": "code",
   "execution_count": 108,
   "id": "05a19912-cfb6-490f-87ed-79fb503f0065",
   "metadata": {},
   "outputs": [],
   "source": [
    "def quick_sort(arr):\n",
    "    if len(arr)<=1:\n",
    "        return arr\n",
    "    else:\n",
    "        pivot=arr[0]\n",
    "        lessor=[x for x in arr[1:] if x<=pivot]\n",
    "        greater=[x for x in arr[1:] if x>pivot]\n",
    "        return quick_sort(lessor)+[pivot]+quick_sort(greater)\n",
    "    \n",
    "        "
   ]
  },
  {
   "cell_type": "code",
   "execution_count": 110,
   "id": "2cf22a33-2040-4514-9d8f-f7f54648bd28",
   "metadata": {},
   "outputs": [],
   "source": [
    "arr=random.sample(range(1,101),10)"
   ]
  },
  {
   "cell_type": "code",
   "execution_count": 112,
   "id": "9648e3ba-78c2-4612-be40-5464344d7889",
   "metadata": {},
   "outputs": [
    {
     "data": {
      "text/plain": [
       "[11, 47, 91, 53, 68, 20, 28, 92, 66, 96]"
      ]
     },
     "execution_count": 112,
     "metadata": {},
     "output_type": "execute_result"
    }
   ],
   "source": [
    "arr"
   ]
  },
  {
   "cell_type": "code",
   "execution_count": 114,
   "id": "ab4739b9-7163-4939-9ac7-1201284d088a",
   "metadata": {},
   "outputs": [
    {
     "data": {
      "text/plain": [
       "[11, 20, 28, 47, 53, 66, 68, 91, 92, 96]"
      ]
     },
     "execution_count": 114,
     "metadata": {},
     "output_type": "execute_result"
    }
   ],
   "source": [
    "quick_sort(arr)"
   ]
  },
  {
   "cell_type": "code",
   "execution_count": null,
   "id": "c9caa5bd-45f3-4934-809f-a89d4cf720e9",
   "metadata": {},
   "outputs": [],
   "source": []
  }
 ],
 "metadata": {
  "kernelspec": {
   "display_name": "Python 3 (ipykernel)",
   "language": "python",
   "name": "python3"
  },
  "language_info": {
   "codemirror_mode": {
    "name": "ipython",
    "version": 3
   },
   "file_extension": ".py",
   "mimetype": "text/x-python",
   "name": "python",
   "nbconvert_exporter": "python",
   "pygments_lexer": "ipython3",
   "version": "3.12.4"
  }
 },
 "nbformat": 4,
 "nbformat_minor": 5
}
