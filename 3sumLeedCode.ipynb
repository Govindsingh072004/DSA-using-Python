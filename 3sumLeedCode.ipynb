{
 "cells": [
  {
   "cell_type": "markdown",
   "id": "dac5867d-2802-4b30-8746-0f16373aa4cd",
   "metadata": {},
   "source": [
    "## using OOPs and original question of LeedCode (3 sum)"
   ]
  },
  {
   "cell_type": "code",
   "execution_count": 68,
   "id": "5fad79d9-edbd-4678-8edb-2c6d36e78a7b",
   "metadata": {},
   "outputs": [],
   "source": [
    "class threeSum:\n",
    "    def __init__(self,nums):\n",
    "        self.nums=nums\n",
    "\n",
    "\n",
    "    def find_triplets(self):\n",
    "        self.nums.sort()\n",
    "        n=len(self.nums)\n",
    "        store=[]\n",
    "        for i in range(n-2):\n",
    "            if i>0 and self.nums[i]==self.nums[i-1]:\n",
    "                continue\n",
    "            l,r=i+1,n-1\n",
    "            while l<r:\n",
    "                total=self.nums[i]+self.nums[l]+self.nums[r]\n",
    "                if total<0:\n",
    "                    l += 1\n",
    "                elif total>0:\n",
    "                    r -= 1\n",
    "                else:\n",
    "                    store.append([self.nums[i],self.nums[l],self.nums[r]])\n",
    "                    while l<r and self.nums[l]==self.nums[l+1]:\n",
    "                        l += 1\n",
    "                    while l<r and self.nums[r]==self.nums[r-1]:\n",
    "                        r -= 1\n",
    "\n",
    "                    l += 1\n",
    "                    r -= 1\n",
    "        return store\n",
    "        \n"
   ]
  },
  {
   "cell_type": "code",
   "execution_count": 70,
   "id": "1501d89c-a48f-47c9-b4e3-0f9231366f78",
   "metadata": {},
   "outputs": [],
   "source": [
    "nums=[-1, 0, 1, 2, -1, -4] ## [-4,-1,-1,0,1,2]\n",
    "solver=threeSum(nums)\n",
    "result=solver.find_triplets()\n"
   ]
  },
  {
   "cell_type": "code",
   "execution_count": 72,
   "id": "a95f70fc-632d-4eb8-bbd3-71500c392a23",
   "metadata": {},
   "outputs": [
    {
     "name": "stdout",
     "output_type": "stream",
     "text": [
      "[[-1, -1, 2], [-1, 0, 1]]\n"
     ]
    }
   ],
   "source": [
    "print(result)"
   ]
  },
  {
   "cell_type": "markdown",
   "id": "73f2180e-12d4-4fed-b5f3-e3b5ddf77060",
   "metadata": {},
   "source": [
    "## using Exception Handling"
   ]
  },
  {
   "cell_type": "code",
   "execution_count": 75,
   "id": "e635fa35-df4e-44d6-8267-dbbcca3f71db",
   "metadata": {},
   "outputs": [],
   "source": [
    "class threeSum:\n",
    "    def __init__(self,nums):\n",
    "        self.nums=nums\n",
    "\n",
    "\n",
    "    def find_triplets(self):\n",
    "        try:\n",
    "            self.nums.sort()\n",
    "            n=len(self.nums)\n",
    "            store=[]\n",
    "            for i in range(n-2):\n",
    "                if i>0 and self.nums[i]==self.nums[i-1]:\n",
    "                    continue\n",
    "                l,r=i+1,n-1\n",
    "                while l<r:\n",
    "                    total=self.nums[i]+self.nums[l]+self.nums[r]\n",
    "                    if total<0:\n",
    "                        l += 1\n",
    "                    elif total>0:\n",
    "                        r -= 1\n",
    "                    else:\n",
    "                        store.append([self.nums[i],self.nums[l],self.nums[r]])\n",
    "                        while l<r and self.nums[l]==self.nums[l+1]:\n",
    "                            l += 1\n",
    "                        while l<r and self.nums[r]==self.nums[r-1]:\n",
    "                            r -= 1\n",
    "        \n",
    "                        l += 1\n",
    "                        r -= 1\n",
    "            return store\n",
    "\n",
    "        except Exception as e:\n",
    "            print(f\"An Error Occured:{e}\")\n",
    "            return []\n",
    "\n",
    "            \n"
   ]
  },
  {
   "cell_type": "code",
   "execution_count": 77,
   "id": "b248a288-aba1-4f8c-893f-5b3e1688616d",
   "metadata": {},
   "outputs": [
    {
     "name": "stdout",
     "output_type": "stream",
     "text": [
      "An Error Occured:'str' object has no attribute 'sort'\n",
      "[]\n"
     ]
    }
   ],
   "source": [
    "nums = \"invalid input\"  # Invalid input\n",
    "solver = threeSum(nums)\n",
    "result = solver.find_triplets()\n",
    "print(result)"
   ]
  },
  {
   "cell_type": "markdown",
   "id": "9d334107-021d-4c66-9395-091c5cb4d2e9",
   "metadata": {},
   "source": [
    "## link of the code"
   ]
  },
  {
   "cell_type": "code",
   "execution_count": 82,
   "id": "c9c82f38-9b9f-452a-b002-4d9b63a4556e",
   "metadata": {},
   "outputs": [
    {
     "data": {
      "text/plain": [
       "'https://leetcode.com/problems/3sum/submissions/1468958735/'"
      ]
     },
     "execution_count": 82,
     "metadata": {},
     "output_type": "execute_result"
    }
   ],
   "source": [
    "\"https://leetcode.com/problems/3sum/submissions/1468958735/\""
   ]
  },
  {
   "cell_type": "code",
   "execution_count": null,
   "id": "f3f188da-9dbc-49c9-9e9c-235ab025abbd",
   "metadata": {},
   "outputs": [],
   "source": []
  },
  {
   "cell_type": "code",
   "execution_count": null,
   "id": "3c06ac4c-ff65-41ee-9f74-b5038e8570b3",
   "metadata": {},
   "outputs": [],
   "source": []
  },
  {
   "cell_type": "code",
   "execution_count": null,
   "id": "799abb5a-d736-4848-b5c6-c1bf8f625766",
   "metadata": {},
   "outputs": [],
   "source": []
  }
 ],
 "metadata": {
  "kernelspec": {
   "display_name": "Python 3 (ipykernel)",
   "language": "python",
   "name": "python3"
  },
  "language_info": {
   "codemirror_mode": {
    "name": "ipython",
    "version": 3
   },
   "file_extension": ".py",
   "mimetype": "text/x-python",
   "name": "python",
   "nbconvert_exporter": "python",
   "pygments_lexer": "ipython3",
   "version": "3.12.4"
  }
 },
 "nbformat": 4,
 "nbformat_minor": 5
}
