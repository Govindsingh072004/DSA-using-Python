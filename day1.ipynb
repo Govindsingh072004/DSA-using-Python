{
 "cells": [
  {
   "cell_type": "markdown",
   "id": "a5c5a221-97dd-4ae4-a3a9-0bc00b4a36c5",
   "metadata": {},
   "source": [
    "## Array from Scratch"
   ]
  },
  {
   "cell_type": "code",
   "execution_count": 326,
   "id": "062ac76d-7c3c-4c8a-b8b1-02728d5086cf",
   "metadata": {},
   "outputs": [],
   "source": [
    "class Solution:\n",
    "    def __init__(self,arr):\n",
    "        self.arr=arr\n",
    "\n",
    "    def get_min(self):\n",
    "        min_value=self.arr[0]\n",
    "        for i in self.arr[1:]:\n",
    "            if i < min_value:\n",
    "                min_value = i \n",
    "        return min_value\n",
    "\n",
    "    def get_max(self):\n",
    "        max_value=self.arr[0]\n",
    "        for num in self.arr[1:]:\n",
    "            if num > max_value:\n",
    "                max_value=num\n",
    "        return max_value\n",
    "    def get_sum(self):\n",
    "        count= 0\n",
    "        for num in self.arr:\n",
    "            count +=num\n",
    "        return count\n",
    "\n",
    "    def get_average(self):\n",
    "        total=self.get_sum()\n",
    "        \n",
    "        return total/ len(self.arr) if len(self.arr) > 0 else 0\n",
    "        \n",
    "    def reverse_array(self):\n",
    "        return self.arr[::-1]\n",
    "\n",
    "\n",
    "    def print_array(self):\n",
    "        print(self.arr)\n",
    "\n",
    "    def count_occurance(self,element):\n",
    "        count=0\n",
    "        for i in self.arr:\n",
    "            if i==element:\n",
    "                count += 1\n",
    "        return count       \n",
    "            \n",
    "            \n",
    "    def remove_element(self,element):\n",
    "        for i in self.arr:\n",
    "            if i == element:\n",
    "                self.arr.remove(element)\n",
    "        return self.arr            \n",
    "\n",
    "    def sort_array(self):\n",
    "        arr_copy=self.arr[:]\n",
    "        n= len (arr_copy)\n",
    "        for i in range(n):\n",
    "            for j in range(0,n-i-1):\n",
    "                if arr_copy[j]>arr_copy[j+1]:\n",
    "                    arr_copy[j],arr_copy[j+1]=arr_copy[j+1],arr_copy[j]\n",
    "        return arr_copy            \n",
    "    def find_index(self,element):  \n",
    "        index=0\n",
    "        while index < len(self.arr):\n",
    "            if self.arr[index]==element:\n",
    "                return index\n",
    "            index+=1\n",
    "        return -1  \n",
    "                    \n",
    "\n",
    "\n",
    "        \n"
   ]
  },
  {
   "cell_type": "code",
   "execution_count": 328,
   "id": "d6e8cc3e-3cac-4f1b-aa77-4a72f6860234",
   "metadata": {},
   "outputs": [],
   "source": [
    "arr = [2,3,4,1,5,77]\n",
    "obj=Solution(arr)     "
   ]
  },
  {
   "cell_type": "code",
   "execution_count": 330,
   "id": "10e0010a-a252-4ef8-81ca-df6b11a4cb8a",
   "metadata": {},
   "outputs": [
    {
     "data": {
      "text/plain": [
       "1"
      ]
     },
     "execution_count": 330,
     "metadata": {},
     "output_type": "execute_result"
    }
   ],
   "source": [
    "obj.get_min()"
   ]
  },
  {
   "cell_type": "code",
   "execution_count": 332,
   "id": "5ac98293-bff5-4feb-8892-a02161b172c4",
   "metadata": {},
   "outputs": [
    {
     "data": {
      "text/plain": [
       "77"
      ]
     },
     "execution_count": 332,
     "metadata": {},
     "output_type": "execute_result"
    }
   ],
   "source": [
    "obj.get_max()"
   ]
  },
  {
   "cell_type": "code",
   "execution_count": 334,
   "id": "7903dde1-54ed-4d0f-89d4-e926dac52c28",
   "metadata": {},
   "outputs": [
    {
     "data": {
      "text/plain": [
       "[77, 5, 1, 4, 3, 2]"
      ]
     },
     "execution_count": 334,
     "metadata": {},
     "output_type": "execute_result"
    }
   ],
   "source": [
    "obj.reverse_array()"
   ]
  },
  {
   "cell_type": "code",
   "execution_count": 336,
   "id": "424dd820-bd5c-4d12-9196-800fc96df8c1",
   "metadata": {},
   "outputs": [
    {
     "name": "stdout",
     "output_type": "stream",
     "text": [
      "[2, 3, 4, 1, 5, 77]\n"
     ]
    }
   ],
   "source": [
    "obj.print_array()"
   ]
  },
  {
   "cell_type": "code",
   "execution_count": 338,
   "id": "c89525b4-2829-4668-9931-81178471d5c3",
   "metadata": {},
   "outputs": [
    {
     "data": {
      "text/plain": [
       "15.333333333333334"
      ]
     },
     "execution_count": 338,
     "metadata": {},
     "output_type": "execute_result"
    }
   ],
   "source": [
    "obj.get_average()"
   ]
  },
  {
   "cell_type": "code",
   "execution_count": 340,
   "id": "f0aa2621-1ba3-4b67-9ca2-953f080fe43a",
   "metadata": {},
   "outputs": [
    {
     "data": {
      "text/plain": [
       "1"
      ]
     },
     "execution_count": 340,
     "metadata": {},
     "output_type": "execute_result"
    }
   ],
   "source": [
    "obj.count_occurance(2)"
   ]
  },
  {
   "cell_type": "code",
   "execution_count": 342,
   "id": "6337659a-7a24-4b6a-9c72-cd72f969ad78",
   "metadata": {},
   "outputs": [
    {
     "data": {
      "text/plain": [
       "[2, 3, 4, 5, 77]"
      ]
     },
     "execution_count": 342,
     "metadata": {},
     "output_type": "execute_result"
    }
   ],
   "source": [
    "obj.remove_element(1)"
   ]
  },
  {
   "cell_type": "code",
   "execution_count": 344,
   "id": "43601907-339b-4956-bd6a-88090bf68f22",
   "metadata": {},
   "outputs": [
    {
     "data": {
      "text/plain": [
       "[2, 3, 4, 5, 77]"
      ]
     },
     "execution_count": 344,
     "metadata": {},
     "output_type": "execute_result"
    }
   ],
   "source": [
    "obj.sort_array()"
   ]
  },
  {
   "cell_type": "code",
   "execution_count": 350,
   "id": "3c7119d0-992b-4311-907c-e82d604b0581",
   "metadata": {},
   "outputs": [
    {
     "data": {
      "text/plain": [
       "0"
      ]
     },
     "execution_count": 350,
     "metadata": {},
     "output_type": "execute_result"
    }
   ],
   "source": [
    "obj.find_index(2)"
   ]
  },
  {
   "cell_type": "code",
   "execution_count": null,
   "id": "248ee532-0250-4c32-a655-904666444e6b",
   "metadata": {},
   "outputs": [],
   "source": []
  }
 ],
 "metadata": {
  "kernelspec": {
   "display_name": "Python 3 (ipykernel)",
   "language": "python",
   "name": "python3"
  },
  "language_info": {
   "codemirror_mode": {
    "name": "ipython",
    "version": 3
   },
   "file_extension": ".py",
   "mimetype": "text/x-python",
   "name": "python",
   "nbconvert_exporter": "python",
   "pygments_lexer": "ipython3",
   "version": "3.12.4"
  }
 },
 "nbformat": 4,
 "nbformat_minor": 5
}
