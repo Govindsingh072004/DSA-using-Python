{
 "cells": [
  {
   "cell_type": "code",
   "execution_count": 25,
   "id": "54d75970-c714-4ec1-be09-83814f428dc2",
   "metadata": {},
   "outputs": [],
   "source": [
    "class Solution:\n",
    "    def __init__(self,s):  ##constructor for initialize input(string)\n",
    "        self.s=s\n",
    "\n",
    "    def length_of_substring(self):\n",
    "        if len(self.s)==0:  ##string not in input return 0\n",
    "            return 0\n",
    "        char_map={}\n",
    "        max_length=start=0\n",
    "\n",
    "        for i in range(len(self.s)):\n",
    "            if self.s[i] in char_map and start<=char_map[self.s[i]]:  ##check the current character appear into the string\n",
    "                start= char_map[self.s[i]]+1\n",
    "            else:\n",
    "                max_length=max(max_length,i-start+1)\n",
    "            char_map[self.s[i]]=i   ##update the dictionary with current character\n",
    "\n",
    "        return max_length\n",
    "\n",
    "\n",
    "#max_length=> To track the maximum length of substring\n",
    "# start=> Pointer to track the start of the current substring"
   ]
  },
  {
   "cell_type": "code",
   "execution_count": 27,
   "id": "ad7e6824-c78d-44e5-87b8-8277833f7f2b",
   "metadata": {},
   "outputs": [
    {
     "data": {
      "text/plain": [
       "3"
      ]
     },
     "execution_count": 27,
     "metadata": {},
     "output_type": "execute_result"
    }
   ],
   "source": [
    "s=\"abcabcbb\"\n",
    "obj=Solution(s)\n",
    "\n",
    "obj.length_of_substring()"
   ]
  },
  {
   "cell_type": "markdown",
   "id": "992ae144-6d24-4189-a811-98981d27cb2f",
   "metadata": {},
   "source": [
    "## suppose we need substring also when I used another variable which contain string "
   ]
  },
  {
   "cell_type": "code",
   "execution_count": 43,
   "id": "cce3cbbf-85fc-47cf-951f-2438a548c324",
   "metadata": {},
   "outputs": [],
   "source": [
    "class Solution:\n",
    "    def __init__(self,s):\n",
    "        self.s=s\n",
    "\n",
    "    def Longest_substring(self):\n",
    "        if self.s==0:\n",
    "            return 0,\"\"\n",
    "        char_map={}\n",
    "        max_length=start=0\n",
    "        store_substring=\"\"\n",
    "\n",
    "        for i in range(len(self.s)):\n",
    "            if self.s[i] in char_map and start<=char_map[self.s[i]]:\n",
    "                start=char_map[self.s[i]]+1\n",
    "            else:\n",
    "                if max_length < i-start +1:\n",
    "                    max_length=i - start +1\n",
    "                    store_substring=self.s[start:i +1]\n",
    "\n",
    "            char_map[self.s[i]]=i\n",
    "\n",
    "        return max_length,store_substring   \n",
    "            \n",
    "            \n",
    "             "
   ]
  },
  {
   "cell_type": "code",
   "execution_count": 49,
   "id": "6be485c8-5aa8-4534-b888-186bb8ecada4",
   "metadata": {},
   "outputs": [
    {
     "name": "stdout",
     "output_type": "stream",
     "text": [
      "Length: 3, Substring: 'abc'\n"
     ]
    }
   ],
   "source": [
    "\n",
    "s = \"abcabcbb\"\n",
    "solution = Solution(s)  # Create an instance of the Solution class\n",
    "length, substring = solution.Longest_substring()\n",
    "print(f\"Length: {length}, Substring: '{substring}'\")\n"
   ]
  },
  {
   "cell_type": "code",
   "execution_count": null,
   "id": "f35b3339-42d2-4677-913b-f88257061e2f",
   "metadata": {},
   "outputs": [],
   "source": []
  },
  {
   "cell_type": "markdown",
   "id": "bbf2b4ba-bbd4-497f-bfd6-3587c5615ee5",
   "metadata": {},
   "source": [
    "# how it's work"
   ]
  },
  {
   "cell_type": "code",
   "execution_count": 53,
   "id": "b0f36510-4a4d-4f1e-938b-ae95dc117581",
   "metadata": {},
   "outputs": [
    {
     "data": {
      "text/plain": [
       "'\\nExample to Illustrate:\\nInput: \"abcabcbb\"\\nAt i = 0, substring = \"a\", length = 1:\\n\\nmax_length < 1 → Update max_length = 1, longest_substring = \"a\".\\nAt i = 1, substring = \"ab\", length = 2:\\n\\nmax_length < 2 → Update max_length = 2, longest_substring = \"ab\".\\nAt i = 2, substring = \"abc\", length = 3:\\n\\nmax_length < 3 → Update max_length = 3, longest_substring = \"abc\".\\nAt i = 3, substring = \"abca\":\\n\\nCharacter \\'a\\' is repeated, so the start pointer moves forward to exclude \\'a\\'.\\nNo update to max_length since the substring length reduces.\\nThe updates ensure that max_length = 3 and longest_substring = \"abc\" at the end.\\n'"
      ]
     },
     "execution_count": 53,
     "metadata": {},
     "output_type": "execute_result"
    }
   ],
   "source": [
    "\"\"\"\n",
    "Example to Illustrate:\n",
    "Input: \"abcabcbb\"\n",
    "At i = 0, substring = \"a\", length = 1:\n",
    "\n",
    "max_length < 1 → Update max_length = 1, longest_substring = \"a\".\n",
    "At i = 1, substring = \"ab\", length = 2:\n",
    "\n",
    "max_length < 2 → Update max_length = 2, longest_substring = \"ab\".\n",
    "At i = 2, substring = \"abc\", length = 3:\n",
    "\n",
    "max_length < 3 → Update max_length = 3, longest_substring = \"abc\".\n",
    "At i = 3, substring = \"abca\":\n",
    "\n",
    "Character 'a' is repeated, so the start pointer moves forward to exclude 'a'.\n",
    "No update to max_length since the substring length reduces.\n",
    "The updates ensure that max_length = 3 and longest_substring = \"abc\" at the end.\n",
    "\"\"\""
   ]
  },
  {
   "cell_type": "code",
   "execution_count": null,
   "id": "686d7aaa-72d1-4555-93bd-76dc11c2df09",
   "metadata": {},
   "outputs": [],
   "source": []
  },
  {
   "cell_type": "code",
   "execution_count": null,
   "id": "bc5f9842-e498-4e59-b1d5-54e037bc52aa",
   "metadata": {},
   "outputs": [],
   "source": []
  },
  {
   "cell_type": "code",
   "execution_count": null,
   "id": "5a7b49b7-2a2e-4325-a8ca-f88170736bf4",
   "metadata": {},
   "outputs": [],
   "source": []
  },
  {
   "cell_type": "code",
   "execution_count": null,
   "id": "f81f1cc9-de97-4f2a-98a0-9c83364ac368",
   "metadata": {},
   "outputs": [],
   "source": []
  }
 ],
 "metadata": {
  "kernelspec": {
   "display_name": "Python 3 (ipykernel)",
   "language": "python",
   "name": "python3"
  },
  "language_info": {
   "codemirror_mode": {
    "name": "ipython",
    "version": 3
   },
   "file_extension": ".py",
   "mimetype": "text/x-python",
   "name": "python",
   "nbconvert_exporter": "python",
   "pygments_lexer": "ipython3",
   "version": "3.12.4"
  }
 },
 "nbformat": 4,
 "nbformat_minor": 5
}
